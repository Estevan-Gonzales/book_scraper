{
 "cells": [
  {
   "cell_type": "code",
   "execution_count": 119,
   "id": "ba058fdd-8878-48f4-9f3a-e06cb58c3067",
   "metadata": {},
   "outputs": [],
   "source": [
    "import requests\n",
    "from bs4 import BeautifulSoup\n",
    "import re"
   ]
  },
  {
   "cell_type": "code",
   "execution_count": 120,
   "id": "74b60f74-3ba6-417f-a652-3dfa4fc9e4cd",
   "metadata": {},
   "outputs": [],
   "source": [
    "webpage = requests.get('https://www.nytimes.com/interactive/2024/books/best-books-21st-century.html')\n",
    "\n",
    "soup = BeautifulSoup(webpage.content, \"html.parser\")"
   ]
  },
  {
   "cell_type": "code",
   "execution_count": 121,
   "id": "efb435e5-5b9c-4d64-9cc2-3e6a971e0f91",
   "metadata": {},
   "outputs": [
    {
     "name": "stdout",
     "output_type": "stream",
     "text": [
      "<section class=\"svelte-cu528v\" id=\"book-100\"><div class=\"big-img-area\"><div class=\"image-number svelte-cu528v\"><picture class=\"svelte-cu528v\"><source media=\"(max-width: 400px)\" srcset=\"https://static01.nyt.com/images/2024/06/30/books/best-books-jjksd01sj-flat-slide-WIYI/best-books-jjksd01sj-flat-slide-WIYI-master495.png\"/> <source media=\"(max-width: 599px)\" srcset=\"https://static01.nyt.com/images/2024/06/30/books/best-books-jjksd01sj-flat-slide-WIYI/best-books-jjksd01sj-flat-slide-WIYI-articleLarge.png\"/> <source media=\"(min-width: 600px)\" srcset=\"https://static01.nyt.com/images/2024/06/30/books/best-books-jjksd01sj-flat-slide-WIYI/best-books-jjksd01sj-flat-slide-WIYI-articleLarge.png\"/> <img alt=\"Book cover for Tree of Smoke\" class=\"svelte-cu528v\" loading=\"lazy\" src=\"https://static01.nyt.com/images/2024/06/30/books/best-books-jjksd01sj-flat-slide-WIYI/best-books-jjksd01sj-flat-slide-WIYI-master315.png\"/></picture> <h4 class=\"svelte-cu528v\" data-svelte-h=\"svelte-1rugcig\"><span class=\"kern svelte-cu528v\">1</span>00</h4></div></div> <div class=\"copy-link-outer svelte-cu528v\"><div class=\"g-copy-link-wrap svelte-16i4qri\"><button aria-label=\"Copy a shareable link to your clipboard\" class=\"click-to-copy svelte-16i4qri\" data-url=\"undefined#book-100?smid=url-share&amp;referringSource=deeplink\" title=\"Copy link to clipboard\" type=\"button\"></button> </div></div> <div class=\"text-area svelte-cu528v\"><h2 class=\"svelte-cu528v\"><!-- HTML_TAG_START -->Tree of Smoke<!-- HTML_TAG_END --></h2> <p class=\"author-year svelte-cu528v\"><span class=\"author svelte-cu528v\">Denis Johnson</span> <span class=\"year svelte-cu528v\">2007</span></p> <p class=\"g-text svelte-urmhfi\"><!-- HTML_TAG_START -->Like the project of the title — an intelligence report that the newly minted C.I.A. operative William “Skip” Sands comes to find both quixotic and useless — the Vietnam-era warfare of Johnson’s rueful, soulful novel lives in shadows, diversions and half-truths. There are no heroes here among the lawless colonels, assassinated priests and faith-stricken NGO nurses; only villainy and vast indifference.<!-- HTML_TAG_END --></p> <div class=\"already-read-box svelte-cu528v no-comment-or-quote\"><div class=\"input-box\"><input class=\"svelte-cu528v\" id=\"already-read-100\" name=\"already-read-100\" type=\"checkbox\" value=\"already-read-100\"/> <label class=\"hed-label svelte-cu528v\" for=\"already-read-100\">I’ve read it</label></div> <p class=\"g-text svelte-urmhfi\"><!-- HTML_TAG_START -->Liked it? Try “<a href=\"https://www.nytimes.com/2020/10/06/books/review/phil-klay-missionaries.html\">Missionaries</a>,” by Phil Klay or “<a href=\"https://www.nytimes.com/2016/04/24/books/review/jay-mcinerney-reviews-hystopia-by-david-means.html\">Hystopia</a>,” by David Means.<!-- HTML_TAG_END --></p> <input class=\"svelte-cu528v\" id=\"want-to-read-100\" name=\"want-to-read-100\" type=\"checkbox\" value=\"want-to-read-100\"/> <label class=\"hed-label svelte-cu528v\" for=\"want-to-read-100\">I want to read it</label> <p class=\"g-text svelte-urmhfi\"><!-- HTML_TAG_START -->Interested? <a href=\"https://www.nytimes.com/2007/09/02/books/review/Lewis3-t.html\">Read our review</a>. Then reserve it at your local library or buy it from <a href=\"https://www.amazon.com/Tree-of-Smoke-Denis-Johnson-audiobook/dp/B000VRA0WA/?tag=thenewyorktim-20\">Amazon</a>, <a href=\"https://books.apple.com/us/book/tree-of-smoke/id375553164?at=10lIEQ\">Apple</a>, <a href=\"https://www.anrdoezrs.net/click-7990613-11819508?url=https%3A%2F%2Fwww.barnesandnoble.com%2Fw%2Ftree-of-smoke-denis-johnson%2F1100556138\">Barnes &amp; Noble</a> or <a href=\"https://bookshop.org/p/books/tree-of-smoke-denis-johnson/21533277?affiliate=3546\">Bookshop</a>.<!-- HTML_TAG_END --></p></div></div> </section>\n"
     ]
    }
   ],
   "source": [
    "book_containers = soup.find_all(attrs={'id':re.compile('book-')})\n",
    "book100 = book_containers[0]\n",
    "print(book100)"
   ]
  },
  {
   "cell_type": "code",
   "execution_count": 137,
   "id": "53809eb3-55d3-45ce-b3bc-503b346c1199",
   "metadata": {},
   "outputs": [],
   "source": [
    "titles = []\n",
    "authors = []\n",
    "years = []\n",
    "amazon_links = []"
   ]
  },
  {
   "cell_type": "code",
   "execution_count": 123,
   "id": "be258568-7dbf-44c4-b849-bde728e16cd0",
   "metadata": {},
   "outputs": [
    {
     "name": "stdout",
     "output_type": "stream",
     "text": [
      "Tree of Smoke\n"
     ]
    }
   ],
   "source": [
    "for book in book_containers:\n",
    "    title_section = book.select(\".text-area\")\n",
    "    titles.append(title_section[0].h2.text)\n",
    "\n",
    "print(titles[0])"
   ]
  },
  {
   "cell_type": "code",
   "execution_count": 124,
   "id": "002ef9fe-f4b6-4cbc-a41d-72d9b2ea25c2",
   "metadata": {},
   "outputs": [
    {
     "name": "stdout",
     "output_type": "stream",
     "text": [
      "Denis Johnson\n"
     ]
    }
   ],
   "source": [
    "for book in book_containers:\n",
    "    author_section = book.select(\".author-year\")\n",
    "    authors.append(author_section[0].span.string)\n",
    "\n",
    "print(authors[0])"
   ]
  },
  {
   "cell_type": "code",
   "execution_count": 125,
   "id": "920e4b32-2fb0-4a4e-82ab-f6f934b71947",
   "metadata": {},
   "outputs": [
    {
     "name": "stdout",
     "output_type": "stream",
     "text": [
      "2007\n"
     ]
    }
   ],
   "source": [
    "for book in book_containers:\n",
    "    author_section = book.select(\".year\")\n",
    "    years.append(author_section[0].text)\n",
    "\n",
    "print(years[0])"
   ]
  },
  {
   "cell_type": "code",
   "execution_count": 148,
   "id": "c7800549-c736-4a4a-8cd8-3223a380b270",
   "metadata": {},
   "outputs": [
    {
     "name": "stdout",
     "output_type": "stream",
     "text": [
      "https://www.amazon.com/Tree-of-Smoke-Denis-Johnson-audiobook/dp/B000VRA0WA/?tag=thenewyorktim-20\n"
     ]
    }
   ],
   "source": [
    "for book in book_containers:\n",
    "    for link in book.select(\"a\"):\n",
    "        if(link.string == \"Amazon\"):\n",
    "            amazon_links.append(link.attrs.get(\"href\"))\n",
    "\n",
    "print(amazon_links[0])"
   ]
  }
 ],
 "metadata": {
  "kernelspec": {
   "display_name": "Python 3 (ipykernel)",
   "language": "python",
   "name": "python3"
  },
  "language_info": {
   "codemirror_mode": {
    "name": "ipython",
    "version": 3
   },
   "file_extension": ".py",
   "mimetype": "text/x-python",
   "name": "python",
   "nbconvert_exporter": "python",
   "pygments_lexer": "ipython3",
   "version": "3.12.2"
  }
 },
 "nbformat": 4,
 "nbformat_minor": 5
}
